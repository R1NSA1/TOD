{
 "cells": [
  {
   "cell_type": "markdown",
   "metadata": {},
   "source": [
    "# Pandas"
   ]
  },
  {
   "cell_type": "markdown",
   "metadata": {},
   "source": [
    "Материалы:\n",
    "* Макрушин С.В. \"Лекция 2: Библиотека Pandas\"\n",
    "* https://pandas.pydata.org/docs/user_guide/index.html#\n",
    "* https://pandas.pydata.org/docs/reference/index.html\n",
    "* Уэс Маккини. Python и анализ данных"
   ]
  },
  {
   "cell_type": "markdown",
   "metadata": {},
   "source": [
    "## Задачи для совместного разбора"
   ]
  },
  {
   "cell_type": "markdown",
   "metadata": {},
   "source": [
    "1. Загрузите данные из файла `sp500hst.txt` и обозначьте столбцы в соответствии с содержимым: `\"date\", \"ticker\", \"open\", \"high\", \"low\", \"close\", \"volume\"`."
   ]
  },
  {
   "cell_type": "markdown",
   "metadata": {},
   "source": [
    "2. Рассчитайте среднее значение показателей для каждого из столбцов c номерами 3-6."
   ]
  },
  {
   "cell_type": "markdown",
   "metadata": {},
   "source": [
    "3. Добавьте столбец, содержащий только число месяца, к которому относится дата."
   ]
  },
  {
   "cell_type": "markdown",
   "metadata": {},
   "source": [
    "4. Рассчитайте суммарный объем торгов для для одинаковых значений тикеров."
   ]
  },
  {
   "cell_type": "markdown",
   "metadata": {},
   "source": [
    "5. Загрузите данные из файла sp500hst.txt и обозначьте столбцы в соответствии с содержимым: \"date\", \"ticker\", \"open\", \"high\", \"low\", \"close\", \"volume\". Добавьте столбец с расшифровкой названия тикера, используя данные из файла `sp_data2.csv` . В случае нехватки данных об именах тикеров корректно обработать их."
   ]
  },
  {
   "cell_type": "markdown",
   "metadata": {},
   "source": [
    "## Лабораторная работа №2"
   ]
  },
  {
   "cell_type": "markdown",
   "metadata": {},
   "source": [
    "### Базовые операции с `DataFrame`"
   ]
  },
  {
   "cell_type": "markdown",
   "metadata": {},
   "source": [
    "1.1 В файлах `recipes_sample.csv` и `reviews_sample.csv` находится информация об рецептах блюд и отзывах на эти рецепты соответственно. Загрузите данные из файлов в виде `pd.DataFrame` с названиями `recipes` и `reviews`. Обратите внимание на корректное считывание столбца с индексами в таблице `reviews` (безымянный столбец)."
   ]
  },
  {
   "cell_type": "code",
   "execution_count": 3,
   "metadata": {
    "scrolled": true
   },
   "outputs": [
    {
     "name": "stdout",
     "output_type": "stream",
     "text": [
      "recipes:\n",
      "________\n",
      "                                        name\n",
      "0     george s at the cove  black bean soup\n",
      "1        healthy for them  yogurt popsicles\n",
      "2              i can t believe it s spinach\n",
      "3                      italian  gut busters\n",
      "4  love is in the air  beef fondue   sauces\n",
      "\n",
      "\n",
      "reviews:\n",
      "________\n",
      "           user_id  recipe_id        date  rating  \\\n",
      "370476       21752      57993  2003-05-01       5   \n",
      "624300      431813     142201  2007-09-16       5   \n",
      "187037      400708     252013  2008-01-10       4   \n",
      "706134  2001852463     404716  2017-12-11       5   \n",
      "312179       95810     129396  2008-03-14       5   \n",
      "\n",
      "                                                   review  \n",
      "370476  Last week whole sides of frozen salmon fillet ...  \n",
      "624300  So simple and so tasty!  I used a yellow capsi...  \n",
      "187037  Very nice breakfast HH, easy to make and yummy...  \n",
      "706134  These are a favorite for the holidays and so e...  \n",
      "312179  Excellent soup!  The tomato flavor is just gre...  \n"
     ]
    }
   ],
   "source": [
    "import pandas as pd\n",
    "\n",
    "\n",
    "recipes = pd.read_csv(\"recipes_sample.csv\")\n",
    "# Загрузка данных из файла reviews_sample.csv в DataFrame reviews с учётом безымянного столбца индексов\n",
    "reviews = pd.read_csv(\"reviews_sample.csv\", index_col=0)\n",
    "\n",
    "\n",
    "print(\"recipes:\")\n",
    "print(\"________\")\n",
    "print('', pd.DataFrame(recipes)[:][:5])\n",
    "print(\"\\n\\nreviews:\")\n",
    "print(\"________\")\n",
    "print(pd.DataFrame(reviews)[:][:5])"
   ]
  },
  {
   "cell_type": "markdown",
   "metadata": {},
   "source": [
    "1.2 Для каждой из таблиц выведите основные параметры:\n",
    "* количество точек данных (строк);\n",
    "* количество столбцов;\n",
    "* тип данных каждого столбца."
   ]
  },
  {
   "cell_type": "code",
   "execution_count": 2,
   "metadata": {
    "scrolled": true
   },
   "outputs": [
    {
     "name": "stdout",
     "output_type": "stream",
     "text": [
      "recipes:\n",
      "__________\n",
      "Количество строк: 30000, 30000\n",
      "Количество столбцов: 8\n",
      "Типы данных столбцов:\n",
      "name               object\n",
      "id                  int64\n",
      "minutes             int64\n",
      "contributor_id      int64\n",
      "submitted          object\n",
      "n_steps           float64\n",
      "description        object\n",
      "n_ingredients     float64\n",
      "dtype: object\n",
      "\n",
      "\n",
      "reviews:\n",
      "__________\n",
      "Количество строк: 126696\n",
      "Количество столбцов: 5\n",
      "Типы данных столбцов:\n",
      "user_id       int64\n",
      "recipe_id     int64\n",
      "date         object\n",
      "rating        int64\n",
      "review       object\n",
      "dtype: object\n"
     ]
    }
   ],
   "source": [
    "print(\"recipes:\")\n",
    "print(\"__________\")\n",
    "print(f'Количество строк: {len(recipes)}, {recipes.shape[0]}')\n",
    "print(f'Количество столбцов: {recipes.shape[1]}')\n",
    "print(\"Типы данных столбцов:\")\n",
    "print(recipes.dtypes)\n",
    "\n",
    "# Вывод основных параметров для таблицы reviews\n",
    "print(\"\\n\\nreviews:\")\n",
    "print(\"__________\")\n",
    "print(f'Количество строк: {reviews.shape[0]}')\n",
    "print(f'Количество столбцов: {reviews.shape[1]}')\n",
    "print(\"Типы данных столбцов:\")\n",
    "print(reviews.dtypes)"
   ]
  },
  {
   "cell_type": "markdown",
   "metadata": {},
   "source": [
    "1.3 Исследуйте, в каких столбцах таблиц содержатся пропуски. Посчитайте долю строк, содержащих пропуски, в отношении к общему количеству строк."
   ]
  },
  {
   "cell_type": "code",
   "execution_count": 21,
   "metadata": {
    "scrolled": true
   },
   "outputs": [
    {
     "name": "stdout",
     "output_type": "stream",
     "text": [
      "\n",
      "Столбцы с пропусками в recipes: ['n_steps', 'description', 'n_ingredients']\n",
      "Доля строк с пропусками в recipes: 0.5684666666666667\n",
      "\n",
      "Столбцы с пропусками в reviews: ['review']\n",
      "Доля строк с пропусками в reviews: 0.00013417945317926376\n"
     ]
    }
   ],
   "source": [
    "# Поиск столбцов с пропусками в таблице recipes\n",
    "recipes_skips = list(recipes.columns[recipes.isna().any()])    # Метод pandas.isna() используется для обнаружения пропущенных значений для объекта, подобного массиву.\n",
    "print(f'\\nСтолбцы с пропусками в recipes: {recipes_skips}')\n",
    "\n",
    "# Подсчёт доли строк, содержащих пропуски, в таблице recipes\n",
    "recipes_rows_skips = sum(recipes.isna().any(axis=1))          \n",
    "recipes_total_rows = recipes.shape[0]\n",
    "recipes_skips_ratio = recipes_rows_skips / recipes_total_rows\n",
    "print(\"Доля строк с пропусками в recipes:\", recipes_skips_ratio)\n",
    "\n",
    "# Поиск столбцов с пропусками в таблице reviews\n",
    "reviews_skips = list(reviews.columns[reviews.isna().any()])\n",
    "print(\"\\nСтолбцы с пропусками в reviews:\", reviews_skips)\n",
    "\n",
    "# Подсчёт доли строк, содержащих пропуски, в таблице reviews\n",
    "reviews_rows_skips = sum(reviews.isnull().any(axis=1))\n",
    "reviews_total_rows = reviews.shape[0]\n",
    "reviews_skips_ratio = reviews_rows_skips / reviews_total_rows\n",
    "print(\"Доля строк с пропусками в reviews:\", reviews_skips_ratio)"
   ]
  },
  {
   "cell_type": "markdown",
   "metadata": {},
   "source": [
    "1.4 Рассчитайте среднее значение для каждого из числовых столбцов (где это имеет смысл)."
   ]
  },
  {
   "cell_type": "code",
   "execution_count": 4,
   "metadata": {
    "scrolled": true
   },
   "outputs": [
    {
     "name": "stdout",
     "output_type": "stream",
     "text": [
      "\n",
      "Средние значения для числовых столбцов в таблице recipes:\n",
      "id                2.218793e+05\n",
      "minutes           1.233581e+02\n",
      "contributor_id    5.635901e+06\n",
      "n_steps           9.805582e+00\n",
      "n_ingredients     9.008286e+00\n",
      "dtype: float64\n",
      "\n",
      "Средние значения для числовых столбцов в таблице reviews:\n",
      "user_id      1.408013e+08\n",
      "recipe_id    1.600944e+05\n",
      "rating       4.410802e+00\n",
      "dtype: float64\n"
     ]
    }
   ],
   "source": [
    "# Рассчёт среднего значения для числовых столбцов в таблице recipes\n",
    "recipes_numeric_columns = recipes.select_dtypes(include=['int', 'float']).columns\n",
    "recipes_numeric_mean = recipes[recipes_numeric_columns].mean()\n",
    "print(\"\\nСредние значения для числовых столбцов в таблице recipes:\")\n",
    "print(recipes_numeric_mean)\n",
    "\n",
    "# Рассчёт среднего значения для числовых столбцов в таблице reviews\n",
    "reviews_numeric_columns = reviews.select_dtypes(include=['int', 'float']).columns\n",
    "reviews_numeric_mean = reviews[reviews_numeric_columns].mean()\n",
    "print(\"\\nСредние значения для числовых столбцов в таблице reviews:\")\n",
    "print(reviews_numeric_mean)"
   ]
  },
  {
   "cell_type": "markdown",
   "metadata": {},
   "source": [
    "1.5 Создайте серию из 10 случайных названий рецептов."
   ]
  },
  {
   "cell_type": "code",
   "execution_count": 22,
   "metadata": {
    "scrolled": true
   },
   "outputs": [
    {
     "name": "stdout",
     "output_type": "stream",
     "text": [
      "0              Pollo Parmigiana   Aka Chicken Parmesan\n",
      "1                                      Cabbage Goulash\n",
      "2                                 Low Fat Fajita Pasta\n",
      "3                         Creamy Parmesan Cheese Sauce\n",
      "4                              Jo S Breakfast Smoothie\n",
      "5                         Creamy Honey Mustard Chicken\n",
      "6    Spicy Tomato And Bean Barley Bake  Low Fat And...\n",
      "7                 Chocolate Banana Tofu Mousse Dessert\n",
      "8                                 Crispy Cheese Sticks\n",
      "9          Easy Freezer Vegetarian Black Bean Burritos\n",
      "dtype: object\n"
     ]
    }
   ],
   "source": [
    "import random\n",
    "import string\n",
    "\n",
    "# Генерация случайных названий рецептов\n",
    "random_recipe_names = []\n",
    "for _ in range(10):\n",
    "    recipe_name = ''.join(random.choices(recipes.name.str.title()))\n",
    "    random_recipe_names.append(recipe_name)\n",
    "\n",
    "# Создание серии из случайных названий рецептов\n",
    "recipe_names_series = pd.Series(random_recipe_names)\n",
    "print(recipe_names_series)"
   ]
  },
  {
   "cell_type": "markdown",
   "metadata": {},
   "source": [
    "1.6 Измените индекс в таблице `reviews`, пронумеровав строки, начиная с нуля."
   ]
  },
  {
   "cell_type": "code",
   "execution_count": 6,
   "metadata": {
    "scrolled": true
   },
   "outputs": [
    {
     "name": "stdout",
     "output_type": "stream",
     "text": [
      "           user_id  recipe_id        date  rating  \\\n",
      "0            21752      57993  2003-05-01       5   \n",
      "1           431813     142201  2007-09-16       5   \n",
      "2           400708     252013  2008-01-10       4   \n",
      "3       2001852463     404716  2017-12-11       5   \n",
      "4            95810     129396  2008-03-14       5   \n",
      "...            ...        ...         ...     ...   \n",
      "126691     1270706     335534  2009-05-17       4   \n",
      "126692     2282344       8701  2012-06-03       0   \n",
      "126693      689540     222001  2008-04-08       5   \n",
      "126694  2000242659     354979  2015-06-02       5   \n",
      "126695      463435     415599  2010-09-30       5   \n",
      "\n",
      "                                                   review  \n",
      "0       Last week whole sides of frozen salmon fillet ...  \n",
      "1       So simple and so tasty!  I used a yellow capsi...  \n",
      "2       Very nice breakfast HH, easy to make and yummy...  \n",
      "3       These are a favorite for the holidays and so e...  \n",
      "4       Excellent soup!  The tomato flavor is just gre...  \n",
      "...                                                   ...  \n",
      "126691  This recipe was great! I made it last night. I...  \n",
      "126692  This recipe is outstanding. I followed the rec...  \n",
      "126693  Well, we were not a crowd but it was a fabulou...  \n",
      "126694  I have been a steak eater and dedicated BBQ gr...  \n",
      "126695  Wonderful and simple to prepare seasoning blen...  \n",
      "\n",
      "[126696 rows x 5 columns]\n"
     ]
    }
   ],
   "source": [
    "# Пронумеровать строки таблицы reviews, начиная с нуля\n",
    "reviews_reset_index = reviews.reset_index(drop=True)\n",
    "\n",
    "# Вывести обновленную таблицу reviews\n",
    "print(reviews_reset_index)"
   ]
  },
  {
   "cell_type": "markdown",
   "metadata": {},
   "source": [
    "1.7 Выведите информацию о рецептах, время выполнения которых не больше 20 минут и кол-во ингредиентов в которых не больше 5."
   ]
  },
  {
   "cell_type": "code",
   "execution_count": 7,
   "metadata": {
    "scrolled": true
   },
   "outputs": [
    {
     "name": "stdout",
     "output_type": "stream",
     "text": [
      "                                                    name      id  minutes  \\\n",
      "28                                   quick biscuit bread  302399       20   \n",
      "60                         peas  fit for a king or queen  303944       20   \n",
      "90                     hawaiian sunrise           mimosa  100837        5   \n",
      "91            tasty dish s   banana pudding in 2 minutes  286484        2   \n",
      "94                                    1 minute meatballs   11361       13   \n",
      "...                                                  ...     ...      ...   \n",
      "29873  zip and steam red potatoes with butter and garlic  304922       13   \n",
      "29874                          ziplock vanilla ice cream   74250       10   \n",
      "29905                      zucchini and corn with cheese  256177       15   \n",
      "29980               zucchini with jalapeno monterey jack  320622       10   \n",
      "29983                          zucchini with serrano ham  162411       15   \n",
      "\n",
      "       contributor_id   submitted  n_steps  \\\n",
      "28             213909  2008-05-06     11.0   \n",
      "60             213909  2008-05-16      NaN   \n",
      "90              58104  2004-09-29      4.0   \n",
      "91              47892  2008-02-13      NaN   \n",
      "94               4470  2001-09-03      NaN   \n",
      "...               ...         ...      ...   \n",
      "29873          724218  2008-05-27      9.0   \n",
      "29874           24386  2003-10-29      8.0   \n",
      "29905          305531  2007-09-29      4.0   \n",
      "29980          305531  2008-08-20      3.0   \n",
      "29983          152500  2006-03-31      6.0   \n",
      "\n",
      "                                             description  n_ingredients  \n",
      "28     this is a wonderful quick bread to make as an ...            5.0  \n",
      "60     this recipe is so simple and the flavors are s...            5.0  \n",
      "90     pineapple mimosa was changed to hawaiian sunri...            3.0  \n",
      "91     \"mmmm, i love bananas!\" a --tasty dish-- origi...            4.0  \n",
      "94     this is a real short cut for cooks in a hurry....            2.0  \n",
      "...                                                  ...            ...  \n",
      "29873  i haven't tried this yet, but i am going to so...            5.0  \n",
      "29874  a fun thing for kids to do. may want to use mi...            3.0  \n",
      "29905  from betty crocker fresh spring recipes. i lik...            5.0  \n",
      "29980                                  simple and yummy!            3.0  \n",
      "29983  this dish is from tim malzer, a german chef wh...            5.0  \n",
      "\n",
      "[2019 rows x 8 columns]\n"
     ]
    }
   ],
   "source": [
    "# Фильтрация рецептов по времени выполнения и количеству ингредиентов\n",
    "filtered_recipes = recipes[(recipes['minutes'] <= 20) & (recipes['n_ingredients'] <= 5)]\n",
    "\n",
    "# Вывод информации о рецептах, удовлетворяющих условиям\n",
    "print(filtered_recipes)"
   ]
  },
  {
   "cell_type": "markdown",
   "metadata": {},
   "source": [
    "### Работа с датами в `pandas`"
   ]
  },
  {
   "cell_type": "markdown",
   "metadata": {},
   "source": [
    "2.1 Преобразуйте столбец `submitted` из таблицы `recipes` в формат времени. Модифицируйте решение задачи 1.1 так, чтобы считать столбец сразу в нужном формате."
   ]
  },
  {
   "cell_type": "code",
   "execution_count": 8,
   "metadata": {
    "scrolled": true
   },
   "outputs": [
    {
     "name": "stdout",
     "output_type": "stream",
     "text": [
      "                                       name     id  minutes  contributor_id  \\\n",
      "0     george s at the cove  black bean soup  44123       90           35193   \n",
      "1        healthy for them  yogurt popsicles  67664       10           91970   \n",
      "2              i can t believe it s spinach  38798       30            1533   \n",
      "3                      italian  gut busters  35173       45           22724   \n",
      "4  love is in the air  beef fondue   sauces  84797       25            4470   \n",
      "\n",
      "   submitted  n_steps                                        description  \\\n",
      "0 2002-10-25      NaN  an original recipe created by chef scott meska...   \n",
      "1 2003-07-26      NaN  my children and their friends ask for my homem...   \n",
      "2 2002-08-29      NaN            these were so go, it surprised even me.   \n",
      "3 2002-07-27      NaN  my sister-in-law made these for us at a family...   \n",
      "4 2004-02-23      4.0  i think a fondue is a very romantic casual din...   \n",
      "\n",
      "   n_ingredients  \n",
      "0           18.0  \n",
      "1            NaN  \n",
      "2            8.0  \n",
      "3            NaN  \n",
      "4            NaN  \n"
     ]
    }
   ],
   "source": [
    "import pandas as pd\n",
    "\n",
    "# Чтение файла recipes.csv с указанием, что столбец submitted нужно разобрать как дату\n",
    "recipes = pd.read_csv('recipes_sample.csv', parse_dates=['submitted'])\n",
    "\n",
    "# Вывод первых строк таблицы recipes с преобразованным столбцом submitted\n",
    "print(recipes.head())"
   ]
  },
  {
   "cell_type": "markdown",
   "metadata": {},
   "source": [
    "2.2 Выведите информацию о рецептах, добавленных в датасет не позже 2010 года."
   ]
  },
  {
   "cell_type": "code",
   "execution_count": 9,
   "metadata": {
    "scrolled": true
   },
   "outputs": [
    {
     "name": "stdout",
     "output_type": "stream",
     "text": [
      "                                               name      id  minutes  \\\n",
      "0             george s at the cove  black bean soup   44123       90   \n",
      "1                healthy for them  yogurt popsicles   67664       10   \n",
      "2                      i can t believe it s spinach   38798       30   \n",
      "3                              italian  gut busters   35173       45   \n",
      "4          love is in the air  beef fondue   sauces   84797       25   \n",
      "...                                             ...     ...      ...   \n",
      "29993                     zuni caf zucchini pickles  316950     2895   \n",
      "29995  zurie s holey rustic olive and cheddar bread  267661       80   \n",
      "29996          zwetschgenkuchen  bavarian plum cake  386977      240   \n",
      "29997   zwiebelkuchen   southwest german onion cake  103312       75   \n",
      "29999        cookies by design   cookies on a stick  298512       29   \n",
      "\n",
      "       contributor_id  submitted  n_steps  \\\n",
      "0               35193 2002-10-25      NaN   \n",
      "1               91970 2003-07-26      NaN   \n",
      "2                1533 2002-08-29      NaN   \n",
      "3               22724 2002-07-27      NaN   \n",
      "4                4470 2004-02-23      4.0   \n",
      "...               ...        ...      ...   \n",
      "29993           62264 2008-07-31      NaN   \n",
      "29995          200862 2007-11-25     16.0   \n",
      "29996          177443 2009-08-24      NaN   \n",
      "29997          161745 2004-11-03      NaN   \n",
      "29999          506822 2008-04-15      9.0   \n",
      "\n",
      "                                             description  n_ingredients  \n",
      "0      an original recipe created by chef scott meska...           18.0  \n",
      "1      my children and their friends ask for my homem...            NaN  \n",
      "2                these were so go, it surprised even me.            8.0  \n",
      "3      my sister-in-law made these for us at a family...            NaN  \n",
      "4      i think a fondue is a very romantic casual din...            NaN  \n",
      "...                                                  ...            ...  \n",
      "29993  refrigerator pickles for some of the zucchini ...            8.0  \n",
      "29995  this is based on a french recipe but i changed...           10.0  \n",
      "29996  this is a traditional fresh plum cake, thought...           11.0  \n",
      "29997  this is a traditional late summer early fall s...            NaN  \n",
      "29999  i've heard of the 'cookies by design' company,...           10.0  \n",
      "\n",
      "[27661 rows x 8 columns]\n"
     ]
    }
   ],
   "source": [
    "# Фильтрация рецептов, добавленных не позже 2010 года\n",
    "recipes_before_2010 = recipes[recipes['submitted'].dt.year <= 2010]\n",
    "\n",
    "# Вывод информации о рецептах, добавленных не позже 2010 года\n",
    "print(recipes_before_2010)"
   ]
  },
  {
   "cell_type": "markdown",
   "metadata": {},
   "source": [
    "### Группировки таблиц `pd.DataFrame`"
   ]
  },
  {
   "cell_type": "markdown",
   "metadata": {},
   "source": [
    "4.1 Посчитайте количество рецептов, представленных каждым из участников (`contributor_id`). Какой участник добавил максимальное кол-во рецептов?"
   ]
  },
  {
   "cell_type": "code",
   "execution_count": 10,
   "metadata": {
    "scrolled": true
   },
   "outputs": [
    {
     "name": "stdout",
     "output_type": "stream",
     "text": [
      "contributor_id\n",
      "89831      421\n",
      "37449      346\n",
      "37779      345\n",
      "1533       186\n",
      "169430     183\n",
      "          ... \n",
      "1061628      1\n",
      "1076183      1\n",
      "429061       1\n",
      "64032        1\n",
      "186118       1\n",
      "Name: count, Length: 8404, dtype: int64\n",
      "Участник с contributor_id 89831 добавил максимальное количество рецептов\n"
     ]
    }
   ],
   "source": [
    "recipe_count_by_contributor = recipes['contributor_id'].value_counts()\n",
    "# Нахождение участника с максимальным количеством добавленных рецептов\n",
    "max_recipes_contributor = recipe_count_by_contributor.idxmax()\n",
    "\n",
    "# Вывод количества рецептов, представленных каждым участником\n",
    "print(recipe_count_by_contributor)\n",
    "\n",
    "# Вывод участника, добавившего максимальное количество рецептов\n",
    "print(f\"Участник с contributor_id {max_recipes_contributor} добавил максимальное количество рецептов\")"
   ]
  },
  {
   "cell_type": "markdown",
   "metadata": {},
   "source": [
    "4.2 Посчитайте средний рейтинг к каждому из рецептов. Для скольких рецептов отсутствуют отзывы? Обратите внимание, что отзыв с нулевым рейтингом или не заполненным текстовым описанием не считается отсутствующим."
   ]
  },
  {
   "cell_type": "code",
   "execution_count": 11,
   "metadata": {
    "scrolled": true
   },
   "outputs": [
    {
     "name": "stdout",
     "output_type": "stream",
     "text": [
      "Средний рейтинг к каждому из рецептов:\n",
      "recipe_id\n",
      "48        1.000000\n",
      "55        4.750000\n",
      "66        4.944444\n",
      "91        4.750000\n",
      "94        5.000000\n",
      "            ...   \n",
      "536547    5.000000\n",
      "536610    0.000000\n",
      "536728    4.000000\n",
      "536729    4.750000\n",
      "536747    0.000000\n",
      "Name: rating, Length: 28100, dtype: float64\n",
      "Количество рецептов без отзывов: 1900\n"
     ]
    }
   ],
   "source": [
    "# Подсчет среднего рейтинга к каждому из рецептов\n",
    "average_ratings = reviews.groupby('recipe_id')['rating'].mean()\n",
    "\n",
    "# Подсчет количества рецептов без отзывов\n",
    "recipes_without_reviews = recipes[~recipes['id'].isin(reviews['recipe_id'])]\n",
    "\n",
    "print(\"Средний рейтинг к каждому из рецептов:\")\n",
    "print(average_ratings)\n",
    "print(\"Количество рецептов без отзывов:\", len(recipes_without_reviews))"
   ]
  },
  {
   "cell_type": "markdown",
   "metadata": {},
   "source": [
    "4.3 Посчитайте количество рецептов с разбивкой по годам создания."
   ]
  },
  {
   "cell_type": "code",
   "execution_count": 12,
   "metadata": {
    "scrolled": true
   },
   "outputs": [
    {
     "name": "stdout",
     "output_type": "stream",
     "text": [
      "Количество рецептов с разбивкой по годам создания:\n",
      "year_created\n",
      "2007    4429\n",
      "2008    4029\n",
      "2006    3473\n",
      "2005    3130\n",
      "2009    2963\n",
      "2002    2644\n",
      "2003    2334\n",
      "2004    2153\n",
      "2010    1538\n",
      "2011     922\n",
      "2012     659\n",
      "2001     589\n",
      "2013     490\n",
      "1999     275\n",
      "2014     139\n",
      "2000     104\n",
      "2015      42\n",
      "2017      39\n",
      "2016      24\n",
      "2018      24\n",
      "Name: count, dtype: int64\n"
     ]
    }
   ],
   "source": [
    "# Извлечение года из столбца 'submitted' таблицы recipes\n",
    "recipes['year_created'] = pd.to_datetime(recipes['submitted']).dt.year\n",
    "\n",
    "# Подсчет количества рецептов с разбивкой по годам создания\n",
    "recipes_by_year = recipes['year_created'].value_counts()\n",
    "\n",
    "print(\"Количество рецептов с разбивкой по годам создания:\")\n",
    "print(recipes_by_year)"
   ]
  },
  {
   "cell_type": "markdown",
   "metadata": {},
   "source": [
    "### Объединение таблиц `pd.DataFrame`"
   ]
  },
  {
   "cell_type": "markdown",
   "metadata": {},
   "source": [
    "5.3. Выясните, рецепты, добавленные в каком году, имеют наименьший средний рейтинг?"
   ]
  },
  {
   "cell_type": "code",
   "execution_count": 13,
   "metadata": {},
   "outputs": [
    {
     "name": "stdout",
     "output_type": "stream",
     "text": [
      "Год(ы) с наименьшим средним рейтингом: [2017]\n"
     ]
    }
   ],
   "source": [
    "# Объединение таблиц recipes и reviews по столбцу recipe_id\n",
    "merged_df = recipes.merge(reviews, left_on='id', right_on='recipe_id')\n",
    "\n",
    "# Извлечение года добавления рецепта из столбца submitted\n",
    "merged_df['year_added'] = merged_df['submitted'].dt.year\n",
    "\n",
    "# Группировка данных по году добавления рецепта и вычисление среднего рейтинга\n",
    "average_rating_by_year = merged_df.groupby('year_added').agg(avg_rating=('rating', 'mean')).reset_index()\n",
    "\n",
    "# Находим год(ы) с наименьшим средним рейтингом\n",
    "min_avg_rating = average_rating_by_year['avg_rating'].min()\n",
    "years_with_min_avg_rating = average_rating_by_year[average_rating_by_year['avg_rating'] == min_avg_rating]['year_added']\n",
    "\n",
    "print(\"Год(ы) с наименьшим средним рейтингом:\", list(years_with_min_avg_rating))\n"
   ]
  },
  {
   "cell_type": "markdown",
   "metadata": {},
   "source": [
    "### Сохранение таблиц `pd.DataFrame`"
   ]
  },
  {
   "cell_type": "markdown",
   "metadata": {},
   "source": [
    "6.1 Отсортируйте таблицу в порядке убывания величины столбца `name_word_count` и сохраните результаты выполнения заданий 3.1-3.3 в csv файл. "
   ]
  },
  {
   "cell_type": "markdown",
   "metadata": {},
   "source": [
    "3.1  Добавьте в таблицу `recipes` столбец `description_length`, в котором хранится длина описания рецепта из столбца `description`."
   ]
  },
  {
   "cell_type": "markdown",
   "metadata": {},
   "source": [
    "3.2 Измените название каждого рецепта в таблице `recipes` таким образом, чтобы каждое слово в названии начиналось с прописной буквы."
   ]
  },
  {
   "cell_type": "markdown",
   "metadata": {},
   "source": [
    "3.3 Добавьте в таблицу `recipes` столбец `name_word_count`, в котором хранится количество слов из названии рецепта (считайте, что слова в названии разделяются только пробелами). Обратите внимание, что между словами может располагаться несколько пробелов подряд."
   ]
  },
  {
   "cell_type": "code",
   "execution_count": 14,
   "metadata": {
    "scrolled": true
   },
   "outputs": [
    {
     "name": "stdout",
     "output_type": "stream",
     "text": [
      "Результаты сохранены в файл 'sorted_results.csv'\n",
      "                                                    name      id  minutes  \\\n",
      "0      Subru Uncle S Whole Green Moong Dal I Ll Be Ma...   77188       95   \n",
      "1      Tsr Version Of T G I  Friday S Black Bean Soup...  102274       75   \n",
      "2      Subru Uncle S Toor Ki Dal Sindhi Style  Dad  M...   76908       65   \n",
      "3      Top Secret Recipes Version Of  I H O P  Griddl...  113346       20   \n",
      "4      Chicken Curry Or  Cat S Vomit On A Bed Of Magg...  294898       30   \n",
      "...                                                  ...     ...      ...   \n",
      "29995                                         Blackmoons  323195      430   \n",
      "29996                                        Bushwhacker  156521       10   \n",
      "29997                                           Basbousa   12957       60   \n",
      "29998                                          Josefinas  264859       20   \n",
      "29999                                           Caramels  143615       30   \n",
      "\n",
      "       contributor_id   submitted  n_steps  \\\n",
      "0                6357  2003-11-21      NaN   \n",
      "1               74652  2004-10-19      9.0   \n",
      "2                6357  2003-11-18     29.0   \n",
      "3              175727  2005-03-14      5.0   \n",
      "4              802799  2008-03-28     11.0   \n",
      "...               ...         ...      ...   \n",
      "29995          415934  2008-09-04      5.0   \n",
      "29996          177392  2006-02-17      1.0   \n",
      "29997           18391  2001-10-20      NaN   \n",
      "29998          498271  2007-11-11      7.0   \n",
      "29999          212088  2005-11-02      NaN   \n",
      "\n",
      "                                             description  n_ingredients  \\\n",
      "0      my dad and mom quite enjoy this lentil curry. ...           15.0   \n",
      "1      from www.topsecretrecipes.com i got this copyc...           16.0   \n",
      "2      this is the lentil curry that subru uncle(our ...           15.0   \n",
      "3      this recipe is top secret recipes version of i...            9.0   \n",
      "4      an old family recipe that's easy to make since...           12.0   \n",
      "...                                                  ...            ...   \n",
      "29995  my mom was a newlywed in the 1950s when she fo...            NaN   \n",
      "29996  this drink is an excellent after dinner drink ...            6.0   \n",
      "29997  this is a traditional middle eastern dessert. ...            NaN   \n",
      "29998  from the junior league of corpus christi tx, t...            NaN   \n",
      "29999  i've been making these at christmas time for y...            6.0   \n",
      "\n",
      "       year_created  description_length  name_word_count  \n",
      "0              2003                 343               15  \n",
      "1              2004                 436               14  \n",
      "2              2003                1087               14  \n",
      "3              2005                 129               14  \n",
      "4              2008                 144               13  \n",
      "...             ...                 ...              ...  \n",
      "29995          2008                 389                1  \n",
      "29996          2006                 124                1  \n",
      "29997          2001                  78                1  \n",
      "29998          2007                  92                1  \n",
      "29999          2005                 341                1  \n",
      "\n",
      "[30000 rows x 11 columns]\n"
     ]
    }
   ],
   "source": [
    "# 3.1\n",
    "recipes['description_length'] = recipes['description'].apply(lambda x: len(str(x)))\n",
    "\n",
    "# 3.2 \n",
    "# Изменение названия каждого рецепта так, чтобы каждое слово начиналось с прописной буквы\n",
    "recipes['name'] = recipes['name'].str.title()\n",
    "# Вывод обновленной таблицы recipes с изменёнными названиями рецептов\n",
    "\n",
    "# 3.3\n",
    "recipes['name_word_count'] = recipes['name'].apply(lambda x: len(x.split()))\n",
    "# Вывод обновленной таблицы recipes с новым столбцом\n",
    "\n",
    "# Сортировка таблицы в порядке убывания столбца name_word_count\n",
    "sorted_df = recipes.sort_values('name_word_count', ascending=False)\n",
    "\n",
    "# Сохранение результатов в CSV файл\n",
    "sorted_df.to_csv('sorted_results.csv', index=False)\n",
    "\n",
    "print(\"Результаты сохранены в файл 'sorted_results.csv'\")\n",
    "print(pd.read_csv('sorted_results.csv'))"
   ]
  },
  {
   "cell_type": "markdown",
   "metadata": {},
   "source": [
    "6.2 Воспользовавшись `pd.ExcelWriter`, cохраните результаты 5.1 и 5.2 в файл: на лист с названием `Рецепты с оценками` сохраните результаты выполнения 5.1; на лист с названием `Количество отзывов по рецептам` сохраните результаты выполнения 5.2."
   ]
  },
  {
   "cell_type": "markdown",
   "metadata": {},
   "source": [
    "5.1 При помощи объединения таблиц, создайте `DataFrame`, состоящий из четырех столбцов: `id`, `name`, `user_id`, `rating`. Рецепты, на которые не оставлен ни один отзыв, должны отсутствовать в полученной таблице. Подтвердите правильность работы вашего кода, выбрав рецепт, не имеющий отзывов, и попытавшись найти строку, соответствующую этому рецепту, в полученном `DataFrame`."
   ]
  },
  {
   "cell_type": "code",
   "execution_count": 16,
   "metadata": {},
   "outputs": [
    {
     "name": "stdout",
     "output_type": "stream",
     "text": [
      "DataFrame:\n",
      "            id                                    name  user_id  rating\n",
      "0        44123   George S At The Cove  Black Bean Soup   743566       5\n",
      "1        44123   George S At The Cove  Black Bean Soup    76503       5\n",
      "2        44123   George S At The Cove  Black Bean Soup    34206       5\n",
      "3        67664      Healthy For Them  Yogurt Popsicles   494084       5\n",
      "4        67664      Healthy For Them  Yogurt Popsicles   303445       5\n",
      "...        ...                                     ...      ...     ...\n",
      "126691  486161                             Zydeco Soup   305531       5\n",
      "126692  486161                             Zydeco Soup  1271506       5\n",
      "126693  486161                             Zydeco Soup   724631       5\n",
      "126694  486161                             Zydeco Soup   133174       5\n",
      "126695  298512  Cookies By Design   Cookies On A Stick   804234       1\n",
      "\n",
      "[126696 rows x 4 columns]\n"
     ]
    }
   ],
   "source": [
    "# Объединение таблиц recipes и reviews по столбцу recipe_id\n",
    "merged_dataframe = recipes.merge(reviews[['recipe_id', 'user_id', 'rating']], left_on='id', right_on='recipe_id')\n",
    "\n",
    "# Исключение рецептов без отзывов\n",
    "merged_dataframe = merged_dataframe.dropna(subset=['rating'])\n",
    "\n",
    "# Создание DataFrame с четырьмя нужными столбцами\n",
    "result_dataframe = merged_dataframe[['id', 'name', 'user_id', 'rating']]\n",
    "\n",
    "print(\"DataFrame:\")\n",
    "print(result_dataframe)"
   ]
  },
  {
   "cell_type": "markdown",
   "metadata": {},
   "source": [
    "5.2 При помощи объединения таблиц и группировок, создайте `DataFrame`, состоящий из трех столбцов: `recipe_id`, `name`, `review_count`, где столбец `review_count` содержит кол-во отзывов, оставленных на рецепт `recipe_id`. У рецептов, на которые не оставлен ни один отзыв, в столбце `review_count` должен быть указан 0. Подтвердите правильность работы вашего кода, выбрав рецепт, не имеющий отзывов, и найдя строку, соответствующую этому рецепту, в полученном `DataFrame`."
   ]
  },
  {
   "cell_type": "code",
   "execution_count": 17,
   "metadata": {
    "scrolled": true
   },
   "outputs": [
    {
     "name": "stdout",
     "output_type": "stream",
     "text": [
      "DataFrame:\n",
      "           id                                        name  review_count\n",
      "0          48                            Boston Cream Pie             2\n",
      "1          55  Betty Crocker S Southwestern Guacamole Dip             4\n",
      "2          66                 Black Coffee Barbecue Sauce            18\n",
      "3          91              Brown Rice And Vegetable Pilaf             4\n",
      "4          94                       Blueberry Buttertarts             4\n",
      "...       ...                                         ...           ...\n",
      "29995  536547                         Cauliflower Ceviche             1\n",
      "29996  536610               Miracle Home Made Puff Pastry             1\n",
      "29997  536728                       Gluten Free  Vegemite             1\n",
      "29998  536729                Creole Watermelon Feta Salad             4\n",
      "29999  536747                          Lemon Pom Pom Cake             4\n",
      "\n",
      "[30000 rows x 3 columns]\n",
      "\n",
      "Попытка найти рецепт без отзывов в DataFrame:\n",
      "           id                           name  review_count\n",
      "16052  223349  Pasta  With Shrimp   Eggplant             0\n"
     ]
    }
   ],
   "source": [
    "merged_df = recipes.merge(reviews, left_on='id', right_on='recipe_id', how='left')\n",
    "\n",
    "# Группировка и подсчет количества отзывов для каждого рецепта\n",
    "review_count_df = merged_df.groupby(['id', 'name']).agg(review_count=('rating', 'count')).reset_index()\n",
    "\n",
    "# Замена пропущенных значений на 0\n",
    "review_count_df['review_count'] = review_count_df['review_count'].fillna(0)\n",
    "\n",
    "# Создание DataFrame с тремя нужными столбцами\n",
    "result_df = review_count_df[['id', 'name', 'review_count']]\n",
    "\n",
    "# выбираем рецепт без отзывов\n",
    "recipe_without_reviews = recipes[~recipes['id'].isin(reviews['recipe_id'])].iloc[0]\n",
    "\n",
    "# Проверка наличия выбранного рецепта без отзывов в полученном DataFrame\n",
    "recipe_check = result_df[result_df['id'] == recipe_without_reviews['id']]\n",
    "\n",
    "\n",
    "print(\"DataFrame:\")\n",
    "print(result_df)\n",
    "print(\"\\nПопытка найти рецепт без отзывов в DataFrame:\")\n",
    "print(recipe_check)"
   ]
  },
  {
   "cell_type": "code",
   "execution_count": 19,
   "metadata": {},
   "outputs": [
    {
     "name": "stdout",
     "output_type": "stream",
     "text": [
      "Результаты сохранены в файл 'результаты.xlsx'\n"
     ]
    }
   ],
   "source": [
    "# Создаем объект ExcelWriter для записи результатов в Excel файл\n",
    "with pd.ExcelWriter('результаты.xlsx') as writer:\n",
    "    # Сохраняем результаты выполнения задачи 5.1 на лист \"Рецепты с оценками\"\n",
    "    result_dataframe.to_excel(writer, sheet_name='Рецепты с оценками', index=False)\n",
    "    \n",
    "    # Сохраняем результаты выполнения задачи 5.2 на лист \"Количество отзывов по рецептам\"\n",
    "    result_df.to_excel(writer, sheet_name='Количество отзывов по рецептам', index=False)\n",
    "\n",
    "print(\"Результаты сохранены в файл 'результаты.xlsx'\")"
   ]
  },
  {
   "cell_type": "code",
   "execution_count": null,
   "metadata": {},
   "outputs": [],
   "source": []
  }
 ],
 "metadata": {
  "kernelspec": {
   "display_name": "Python 3 (ipykernel)",
   "language": "python",
   "name": "python3"
  },
  "language_info": {
   "codemirror_mode": {
    "name": "ipython",
    "version": 3
   },
   "file_extension": ".py",
   "mimetype": "text/x-python",
   "name": "python",
   "nbconvert_exporter": "python",
   "pygments_lexer": "ipython3",
   "version": "3.11.5"
  }
 },
 "nbformat": 4,
 "nbformat_minor": 4
}
