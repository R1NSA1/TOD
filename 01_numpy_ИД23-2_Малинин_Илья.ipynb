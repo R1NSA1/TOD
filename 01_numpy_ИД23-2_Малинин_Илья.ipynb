{
 "cells": [
  {
   "cell_type": "markdown",
   "metadata": {},
   "source": [
    "# Numpy"
   ]
  },
  {
   "cell_type": "markdown",
   "metadata": {},
   "source": [
    "Материалы:\n",
    "* Макрушин С.В. \"Лекция 1: Библиотека Numpy\"\n",
    "* https://numpy.org/doc/stable/user/index.html\n",
    "* https://numpy.org/doc/stable/reference/index.html"
   ]
  },
  {
   "cell_type": "markdown",
   "metadata": {},
   "source": [
    "## Задачи для совместного разбора"
   ]
  },
  {
   "cell_type": "markdown",
   "metadata": {},
   "source": [
    "1. Сгенерировать двухмерный массив `arr` размерности (4, 7), состоящий из случайных действительных чисел, равномерно распределенных в диапазоне от 0 до 20. Нормализовать значения массива с помощью преобразования вида  $𝑎𝑥+𝑏$  так, что после нормализации максимальный элемент масcива будет равен 1.0, минимальный 0.0"
   ]
  },
  {
   "cell_type": "markdown",
   "metadata": {},
   "source": [
    "2. Создать матрицу 8 на 10 из случайных целых (используя модуль `numpy.random`) чисел из диапозона от 0 до 10 и найти в ней строку (ее индекс и вывести саму строку), в которой сумма значений минимальна."
   ]
  },
  {
   "cell_type": "markdown",
   "metadata": {},
   "source": [
    "3. Найти евклидово расстояние между двумя одномерными векторами одинаковой размерности."
   ]
  },
  {
   "cell_type": "markdown",
   "metadata": {},
   "source": [
    "4. Решить матричное уравнение `A*X*B=-C` - найти матрицу `X`. Где `A = [[-1, 2, 4], [-3, 1, 2], [-3, 0, 1]]`, `B=[[3, -1], [2, 1]]`, `C=[[7, 21], [11, 8], [8, 4]]`."
   ]
  },
  {
   "cell_type": "markdown",
   "metadata": {},
   "source": [
    "## Лабораторная работа №1"
   ]
  },
  {
   "cell_type": "markdown",
   "metadata": {},
   "source": [
    "Замечание: при решении данных задач не подразумевается использования циклов или генераторов Python, если в задании не сказано обратного. Решение должно опираться на использования функционала библиотеки `numpy`."
   ]
  },
  {
   "cell_type": "markdown",
   "metadata": {},
   "source": [
    "1. Файл `minutes_n_ingredients.csv` содержит информацию об идентификаторе рецепта, времени его выполнения в минутах и количестве необходимых ингредиентов. Считайте данные из этого файла в виде массива `numpy` типа `int32`, используя `np.loadtxt`. Выведите на экран первые 5 строк массива."
   ]
  },
  {
   "cell_type": "code",
   "execution_count": 2,
   "metadata": {},
   "outputs": [
    {
     "name": "stdout",
     "output_type": "stream",
     "text": [
      "[[127244     60     16]\n",
      " [ 23891     25      7]\n",
      " [ 94746     10      6]\n",
      " [ 67660      5      6]\n",
      " [157911     60     14]]\n"
     ]
    }
   ],
   "source": [
    "import numpy as np\n",
    "\n",
    "arr = np.loadtxt(\"minutes_n_ingredients.csv\", delimiter=',', skiprows=1, dtype=np.int32)\n",
    "arr1 = arr[:5:]\n",
    "print(arr1)"
   ]
  },
  {
   "cell_type": "markdown",
   "metadata": {},
   "source": [
    "2. Вычислите среднее значение, минимум, максимум и медиану по каждому из столбцов, кроме первого."
   ]
  },
  {
   "cell_type": "code",
   "execution_count": 3,
   "metadata": {},
   "outputs": [
    {
     "name": "stdout",
     "output_type": "stream",
     "text": [
      "Столбец 2: [60, 25, 10, 5, 60], среднее значение: 32, минимум: 5, максимум: 60, медиана: 25\n",
      "Столбец 3: [16, 7, 6, 6, 14], среднее значение: 9, минимум: 6, максимум: 16, медиана: 7\n"
     ]
    }
   ],
   "source": [
    "import statistics as st\n",
    "\n",
    "i1 = [i[1] for i in arr1]\n",
    "i2 = [i[2] for i in arr1]\n",
    "\n",
    "print(f'Столбец 2: {i1}, среднее значение: {sum(i1) // len(i1)}, минимум: {min([i[1] for i in arr1])}, максимум: {max([i[1] for i in arr1])}, медиана: {st.median(i1)}')\n",
    "print(f'Столбец 3: {i2}, среднее значение: {sum(i2) // len(i2)}, минимум: {min([i[2] for i in arr1])}, максимум: {max([i[2] for i in arr1])}, медиана: {st.median(i2)}')"
   ]
  },
  {
   "cell_type": "markdown",
   "metadata": {},
   "source": [
    "3. Ограничьте сверху значения продолжительности выполнения рецепта значением квантиля $q_{0.75}$. "
   ]
  },
  {
   "cell_type": "code",
   "execution_count": 4,
   "metadata": {},
   "outputs": [
    {
     "name": "stdout",
     "output_type": "stream",
     "text": [
      "[[127244     60     16]\n",
      " [ 23891     25      7]\n",
      " [ 94746     10      6]\n",
      " [ 67660      5      6]\n",
      " [157911     60     14]]\n"
     ]
    }
   ],
   "source": [
    "# Определение квантиля q0.75\n",
    "quantile = np.quantile(arr[:,1], 0.75)\n",
    "\n",
    "# Фильтрация значений по квантилю\n",
    "filtered_data = arr[arr[:,1] <= quantile]\n",
    "\n",
    "# Вывод первых 5 строк массива\n",
    "print(filtered_data[:5])"
   ]
  },
  {
   "cell_type": "markdown",
   "metadata": {},
   "source": [
    "4. Посчитайте, для скольких рецептов указана продолжительность, равная нулю. Замените для таких строк значение в данном столбце на 1."
   ]
  },
  {
   "cell_type": "code",
   "execution_count": 5,
   "metadata": {},
   "outputs": [
    {
     "name": "stdout",
     "output_type": "stream",
     "text": [
      "479\n"
     ]
    }
   ],
   "source": [
    "cnt = 0\n",
    "a1 = [i[1] for i in arr]\n",
    "for m in a1:\n",
    "    if m == 0:\n",
    "        cnt += 1\n",
    "        m += 1\n",
    "print(cnt)"
   ]
  },
  {
   "cell_type": "markdown",
   "metadata": {},
   "source": [
    "5. Посчитайте, сколько уникальных рецептов находится в датасете."
   ]
  },
  {
   "cell_type": "code",
   "execution_count": 6,
   "metadata": {},
   "outputs": [
    {
     "name": "stdout",
     "output_type": "stream",
     "text": [
      "100000 100000\n"
     ]
    }
   ],
   "source": [
    "from collections import Counter\n",
    "from itertools import set\n",
    "a2 = [i[0] for i in arr]\n",
    "print(len(Counter(a2)), len(a2))"
   ]
  },
  {
   "cell_type": "markdown",
   "metadata": {},
   "source": [
    "6. Сколько и каких различных значений кол-ва ингредиентов присутвует в рецептах из датасета?"
   ]
  },
  {
   "cell_type": "markdown",
   "metadata": {},
   "source": [
    "7. Создайте версию массива, содержащую информацию только о рецептах, состоящих не более чем из 5 ингредиентов."
   ]
  },
  {
   "cell_type": "code",
   "execution_count": 137,
   "metadata": {},
   "outputs": [
    {
     "name": "stdout",
     "output_type": "stream",
     "text": [
      "[[446597     15      5]\n",
      " [204134      5      3]\n",
      " [ 25623      6      4]\n",
      " ...\n",
      " [ 52088     60      5]\n",
      " [128811     15      4]\n",
      " [370915      5      4]]\n"
     ]
    }
   ],
   "source": [
    "c = np.array([line for line in arr if line[2] <= 5])\n",
    "print(c)"
   ]
  },
  {
   "cell_type": "markdown",
   "metadata": {},
   "source": [
    "8. Для каждого рецепта посчитайте, сколько в среднем ингредиентов приходится на одну минуту рецепта. Найдите максимальное значение этой величины для всего датасета"
   ]
  },
  {
   "cell_type": "code",
   "execution_count": 7,
   "metadata": {},
   "outputs": [
    {
     "name": "stdout",
     "output_type": "stream",
     "text": [
      "В среднем приходится: 0.26666666666666666 ингридиента\n",
      "В среднем приходится: 0.28 ингридиента\n",
      "В среднем приходится: 0.6 ингридиента\n",
      "В среднем приходится: 1.2 ингридиента\n",
      "В среднем приходится: 0.23333333333333334 ингридиента\n",
      "Максимальное значение: 1.2\n"
     ]
    }
   ],
   "source": [
    "ingredients_per_minute = arr1[:, 2] / arr1[:, 1]\n",
    "for i2 in ingredients_per_minute:\n",
    "    print(f'В среднем приходится: {i2} ингридиента')\n",
    "print(f'Максимальное значение: {np.max(ingredients_per_minute)}')"
   ]
  },
  {
   "cell_type": "markdown",
   "metadata": {},
   "source": [
    "9. Вычислите среднее количество ингредиентов для топ-100 рецептов с наибольшей продолжительностью"
   ]
  },
  {
   "cell_type": "code",
   "execution_count": 152,
   "metadata": {},
   "outputs": [
    {
     "name": "stdout",
     "output_type": "stream",
     "text": [
      "Среднее количество ингредиентов: 6.61\n"
     ]
    }
   ],
   "source": [
    "sorted_data = arr[arr[:, 1].argsort()[::-1]]\n",
    "top_100_recipes = sorted_data[:100]\n",
    "average_ingredients_top_100 = np.mean(top_100_recipes[:, 2])\n",
    "print(\"Среднее количество ингредиентов:\", average_ingredients_top_100)"
   ]
  },
  {
   "cell_type": "markdown",
   "metadata": {},
   "source": [
    "10. Выберите случайным образом и выведите информацию о 10 различных рецептах"
   ]
  },
  {
   "cell_type": "code",
   "execution_count": 156,
   "metadata": {},
   "outputs": [
    {
     "name": "stdout",
     "output_type": "stream",
     "text": [
      "Информация о 10 различных рецептах:\n",
      "ID рецепта: 333809, Время выполнения: 25 мин, Количество ингредиентов: 6\n",
      "ID рецепта: 215328, Время выполнения: 55 мин, Количество ингредиентов: 4\n",
      "ID рецепта: 115369, Время выполнения: 40 мин, Количество ингредиентов: 11\n",
      "ID рецепта: 441738, Время выполнения: 35 мин, Количество ингредиентов: 6\n",
      "ID рецепта: 356931, Время выполнения: 40 мин, Количество ингредиентов: 9\n",
      "ID рецепта: 233204, Время выполнения: 15 мин, Количество ингредиентов: 6\n",
      "ID рецепта: 96216, Время выполнения: 30 мин, Количество ингредиентов: 11\n",
      "ID рецепта: 59978, Время выполнения: 50 мин, Количество ингредиентов: 11\n",
      "ID рецепта: 190594, Время выполнения: 40 мин, Количество ингредиентов: 11\n",
      "ID рецепта: 93916, Время выполнения: 50 мин, Количество ингредиентов: 21\n"
     ]
    }
   ],
   "source": [
    "d = np.random.choice(arr.shape[0], 10, replace=False)\n",
    "# Информация о выбранных рецептах\n",
    "selected_r = arr[d]\n",
    "\n",
    "print(\"Информация о 10 различных рецептах:\")\n",
    "for r in selected_r:\n",
    "    r_id, time_minutes, num_ingredients = r\n",
    "    print(f\"ID рецепта: {r_id}, Время выполнения: {time_minutes} мин, Количество ингредиентов: {num_ingredients}\")"
   ]
  },
  {
   "cell_type": "markdown",
   "metadata": {},
   "source": [
    "11. Выведите процент рецептов, кол-во ингредиентов в которых меньше среднего."
   ]
  },
  {
   "cell_type": "code",
   "execution_count": 160,
   "metadata": {},
   "outputs": [
    {
     "name": "stdout",
     "output_type": "stream",
     "text": [
      "Процент рецептов, количество ингредиентов в которых меньше среднего: 58.80%\n"
     ]
    }
   ],
   "source": [
    "average_num_ingredients = np.mean(arr[:, 2])\n",
    "# Подсчет количества рецептов, количество ингредиентов в которых меньше среднего\n",
    "less_than_average = np.sum(arr[:, 2] < average_num_ingredients)\n",
    "\n",
    "# Вычисление процента рецептов, количество ингредиентов в которых меньше среднего\n",
    "percent_less_than_average = (less_than_average / len(arr)) * 100\n",
    "\n",
    "print(f\"Процент рецептов, количество ингредиентов в которых меньше среднего: {percent_less_than_average:.2f}%\")"
   ]
  },
  {
   "cell_type": "markdown",
   "metadata": {},
   "source": [
    "12. Назовем \"простым\" такой рецепт, длительность выполнения которого не больше 20 минут и кол-во ингредиентов в котором не больше 5. Создайте версию датасета с дополнительным столбцом, значениями которого являются 1, если рецепт простой, и 0 в противном случае."
   ]
  },
  {
   "cell_type": "code",
   "execution_count": 167,
   "metadata": {},
   "outputs": [
    {
     "name": "stdout",
     "output_type": "stream",
     "text": [
      "[[127244     60     16      0]\n",
      " [ 23891     25      7      0]\n",
      " [ 94746     10      6      0]\n",
      " ...\n",
      " [498432     65     15      0]\n",
      " [370915      5      4      1]\n",
      " [ 81993    140     14      0]]\n"
     ]
    }
   ],
   "source": [
    "# Создание нового массива с дополнительным столбцом для указания \"простых\" рецептов\n",
    "is_simple_recipe = ((arr[:, 1] <= 20) & (arr[:, 2] <= 5)).astype(np.int32)\n",
    "data_with_simple_column = np.column_stack((arr, is_simple_recipe))\n",
    "\n",
    "# Сохранение нового датасета с дополнительным столбцом в CSV файл\n",
    "np.savetxt(\"minutes_n_ingredients_with_simple_column.csv\", data_with_simple_column, delimiter=',', fmt='%d', header=\"ID,Time_minutes,Num_ingredients,Is_simple_recipe\", comments='')\n",
    "\n",
    "arr2 = np.loadtxt(\"minutes_n_ingredients_with_simple_column.csv\", delimiter=',', skiprows=1, dtype=np.int32)\n",
    "print(arr2)"
   ]
  },
  {
   "cell_type": "markdown",
   "metadata": {},
   "source": [
    "13. Выведите процент \"простых\" рецептов в датасете"
   ]
  },
  {
   "cell_type": "code",
   "execution_count": 168,
   "metadata": {},
   "outputs": [
    {
     "name": "stdout",
     "output_type": "stream",
     "text": [
      "Процент 'простых' рецептов в датасете: 9.55%\n"
     ]
    }
   ],
   "source": [
    "simple_recipes = (arr2[:, 1] <= 20) & (arr2[:, 2] <= 5)\n",
    "\n",
    "# Подсчет количества \"простых\" рецептов\n",
    "count_simple_recipes = np.sum(simple_recipes)\n",
    "\n",
    "# Вычисление процента \"простых\" рецептов\n",
    "percent_simple_recipes = (count_simple_recipes / len(arr2)) * 100\n",
    "print(f\"Процент 'простых' рецептов в датасете: {percent_simple_recipes:.2f}%\")"
   ]
  },
  {
   "cell_type": "markdown",
   "metadata": {},
   "source": [
    "14. Разделим рецепты на группы по следующему правилу. Назовем рецепты короткими, если их продолжительность составляет менее 10 минут; стандартными, если их продолжительность составляет более 10, но менее 20 минут; и длинными, если их продолжительность составляет не менее 20 минут. Создайте трехмерный массив, где нулевая ось отвечает за номер группы (короткий, стандартный или длинный рецепт), первая ось - за сам рецепт и вторая ось - за характеристики рецепта. Выберите максимальное количество рецептов из каждой группы таким образом, чтобы было возможно сформировать трехмерный массив. Выведите форму полученного массива."
   ]
  },
  {
   "cell_type": "code",
   "execution_count": 170,
   "metadata": {},
   "outputs": [
    {
     "ename": "ValueError",
     "evalue": "could not broadcast input array from shape (7588,4) into shape (7588,3)",
     "output_type": "error",
     "traceback": [
      "\u001b[1;31m---------------------------------------------------------------------------\u001b[0m",
      "\u001b[1;31mValueError\u001b[0m                                Traceback (most recent call last)",
      "Cell \u001b[1;32mIn[170], line 13\u001b[0m\n\u001b[0;32m     10\u001b[0m three_dimensional_array \u001b[38;5;241m=\u001b[39m np\u001b[38;5;241m.\u001b[39mzeros((\u001b[38;5;241m3\u001b[39m, max_length, \u001b[38;5;241m3\u001b[39m), dtype\u001b[38;5;241m=\u001b[39mnp\u001b[38;5;241m.\u001b[39mint32)\n\u001b[0;32m     12\u001b[0m \u001b[38;5;66;03m# Заполнение трехмерного массива данными из каждой группы\u001b[39;00m\n\u001b[1;32m---> 13\u001b[0m three_dimensional_array[\u001b[38;5;241m0\u001b[39m, :\u001b[38;5;28mlen\u001b[39m(short_recipes[:max_length]), :] \u001b[38;5;241m=\u001b[39m short_recipes[:max_length]\n\u001b[0;32m     14\u001b[0m three_dimensional_array[\u001b[38;5;241m1\u001b[39m, :\u001b[38;5;28mlen\u001b[39m(standard_recipes[:max_length]), :] \u001b[38;5;241m=\u001b[39m standard_recipes[:max_length]\n\u001b[0;32m     15\u001b[0m three_dimensional_array[\u001b[38;5;241m2\u001b[39m, :\u001b[38;5;28mlen\u001b[39m(long_recipes[:max_length]), :] \u001b[38;5;241m=\u001b[39m long_recipes[:max_length]\n",
      "\u001b[1;31mValueError\u001b[0m: could not broadcast input array from shape (7588,4) into shape (7588,3)"
     ]
    }
   ],
   "source": [
    "# Разделение рецептов на группы: короткие, стандартные и длинные\n",
    "short_recipes = arr2[arr2[:, 1] < 10]  # короткие рецепты\n",
    "standard_recipes = arr2[(arr2[:, 1] >= 10) & (arr2[:, 1] < 20)]  # стандартные рецепты\n",
    "long_recipes = arr2[arr2[:, 1] >= 20]  # длинные рецепты\n",
    "\n",
    "# Определение максимального количества рецептов из каждой группы для формирования трехмерного массива\n",
    "max_length = min(len(short_recipes), len(standard_recipes), len(long_recipes))\n",
    "\n",
    "# Создание трехмерного массива\n",
    "three_dimensional_array = np.zeros((3, max_length, 3), dtype=np.int32)\n",
    "\n",
    "# Заполнение трехмерного массива данными из каждой группы\n",
    "three_dimensional_array[0, :len(short_recipes[:max_length]), :] = short_recipes[:max_length]\n",
    "three_dimensional_array[1, :len(standard_recipes[:max_length]), :] = standard_recipes[:max_length]\n",
    "three_dimensional_array[2, :len(long_recipes[:max_length]), :] = long_recipes[:max_length]\n",
    "\n",
    "print(f\"Форма полученного трехмерного массива: {three_dimensional_array.shape}\")"
   ]
  },
  {
   "cell_type": "code",
   "execution_count": null,
   "metadata": {},
   "outputs": [],
   "source": []
  }
 ],
 "metadata": {
  "kernelspec": {
   "display_name": "Python 3 (ipykernel)",
   "language": "python",
   "name": "python3"
  },
  "language_info": {
   "codemirror_mode": {
    "name": "ipython",
    "version": 3
   },
   "file_extension": ".py",
   "mimetype": "text/x-python",
   "name": "python",
   "nbconvert_exporter": "python",
   "pygments_lexer": "ipython3",
   "version": "3.11.5"
  }
 },
 "nbformat": 4,
 "nbformat_minor": 4
}
